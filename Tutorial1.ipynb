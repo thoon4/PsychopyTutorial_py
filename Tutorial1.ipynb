{
 "cells": [
  {
   "cell_type": "markdown",
   "metadata": {},
   "source": [
    "---\n",
    "\n",
    "<br>\n",
    "    \n",
    "# Python for Neuroscientist\n",
    "\n",
    "<br>\n",
    "\n",
    "* **created by THK. 20-08-03.** <br><br>\n",
    "\n",
    "* **이 노트는 Neuroscientist를 위한 Python 공부를 위해 구성되었다.** <br><br>\n",
    "* **참고 자료는 아래와 같다.**\n",
    "    1. 신경과학자를 위한 Python (https://xcorr.net/2020/02/21/transitioning-away-from-matlab/)\n",
    "    2. 점프 투 파이썬 (https://wikidocs.net/book/1)\n",
    "\n",
    "<br>\n",
    "\n",
    "* 주피터 노트북의 단축기\n",
    "\n",
    "    - 1. Command Mode ( press Esc to enable) \n",
    "        - 1. shift-Enter : run cell, select below\n",
    "        - 2. Ctrl-Enter : run cell\n",
    "        - 3. Alt-Enter : run cell, insert below \n",
    "        - 4. Y : to code \n",
    "        - 5. M : to markdown\n",
    "        - 6. B : insert cell below\n",
    "        - 7. X : cut selected cell\n",
    "        - 8. C : copy selected cell\n",
    "        - 9. Shift-V : paste cell above\n",
    "        - 10. V : paste cell below\n",
    "        - 11. Z : undo last cell deletion\n",
    "        - 12. D,D : delete selected cell\n",
    "        - 13. Shift-M : merge cell below\n",
    "\n",
    "    - 2. Edit Mode ( press Enter to enable)\n",
    "        - 1. Shift-Tab : 툴팁표시\n",
    "        - 2. Ctrl-] : indent\n",
    "        - 3. Ctrl-Shift- : split cell\n",
    "\n",
    "<br>\n",
    "\n",
    "* 주피터 노트북 마크다운 관련 참고 자료\n",
    "    - 1. https://datanetworkanalysis.github.io/2019/10/12/markdown\n",
    "    - 2. https://steemit.com/kr/@nand/markdown\n",
    "\n",
    "<br>"
   ]
  },
  {
   "cell_type": "markdown",
   "metadata": {},
   "source": [
    "---\n",
    "\n",
    "<br>\n",
    "\n",
    "## 1. 유용한 패키지 모음\n",
    "\n",
    "<br>\n",
    "\n",
    "* Experiment Programming\n",
    "\n",
    "    * **Psychopy** for visual stimulus presentation & running experiments\n",
    "    \n",
    "<br>\n",
    "\n",
    "* Math & Data Analysis\n",
    "\n",
    "    * **math** for mathmatical function\n",
    "    * **random** for generating random number\n",
    "    * **numpy** for matrices\n",
    "    * **pandas** for dataframes\n",
    "    * **PyMC3** for Bayesian inference\n",
    "    * **scipy** for signal processing, statistical analysis\n",
    "\n",
    "<br>\n",
    "\n",
    "* Plotting\n",
    "\n",
    "    * **matplotlib** for plotting\n",
    "    * **seaborn**, which includes a number of useful plot types, including violin plots and histograms.\n",
    "    * **plotnine**, which implements the grammar of graphics (ggplot2 in R).\n",
    "\n",
    "\n",
    "<br>\n",
    "\n",
    "* Machine Learning\n",
    "\n",
    "    * **PyMVPA** is a Python package intended to ease statistical learning analyses of large datasets.\n",
    "    * **sklearn** for machine learning\n",
    "    * **pytorch** or **tensorflow** for fitting ANNs\n",
    "    * **brian** for spiking neural net simulations\n",
    "\n",
    "<br>\n",
    "\n",
    "* fMRI Processing & MVPA\n",
    "\n",
    "    * **Nipy**, **nitime** for analysis of structural and functional neuroimaging data.\n",
    "    * **nilearn** for machine learning with MRI\n",
    "\n",
    "<br>\n",
    "\n",
    "* ETC ...\n",
    "\n",
    "    * **os**, **os.path** for control OS\n",
    "    * **neo** for managing electrophysiology data in Python\n",
    "    * **MNE** for EEG analysis\n",
    "\n",
    "<br>"
   ]
  },
  {
   "cell_type": "markdown",
   "metadata": {},
   "source": [
    "---\n",
    "\n",
    "<br>\n",
    "\n",
    "## 2. Tutorial\n",
    "\n",
    "<br>"
   ]
  },
  {
   "cell_type": "markdown",
   "metadata": {},
   "source": [
    "### 1) General Setting"
   ]
  },
  {
   "cell_type": "code",
   "execution_count": 2,
   "metadata": {},
   "outputs": [],
   "source": [
    "# General Setting\n",
    "\n",
    "# %reset\n",
    "# import os\n",
    "# os.getcwd()\n",
    "# os.chdir(r'D:/Study/th_project_v4')\n",
    "\n",
    "import pandas as pd\n",
    "import numpy as np\n",
    "import matplotlib as mpl\n",
    "import matplotlib.pyplot as plt\n",
    "import seaborn as sns\n",
    "import plotnine as p9\n",
    "from scipy import stats\n",
    "import pylab as pl\n",
    "\n",
    "# Display HTML\n",
    "from IPython.core.display import display, HTML\n",
    "\n",
    "# 노트북 안에 그래프를 그리기\n",
    "%matplotlib inline\n",
    "\n",
    "# 그래프에서 격자로 숫자 범위가 눈에 잘 띄도록 ggplot 스타일 사용\n",
    "plt.style.use('ggplot')\n",
    "\n",
    "# 그래프에서 한글 폰트 및 마이너스 폰트 깨지는 문제를 대처\n",
    "plt.rc('font', family='NanumGothic') # For Windows\n",
    "mpl.rcParams['axes.unicode_minus'] = False\n",
    "\n",
    "# 그래프 글자 크기 조정\n",
    "plt.rc('font', family='NanumGothic') # For Windows\n",
    "plt.rc('font', size = 20)"
   ]
  },
  {
   "cell_type": "markdown",
   "metadata": {},
   "source": [
    "<br>\n",
    "\n",
    "### 2) Basic 1\n",
    "\n",
    "<br>\n",
    "\n",
    "* https://www.youtube.com/watch?v=kWiCuklohdY&t=3s\n",
    "\n",
    "<br>\n"
   ]
  },
  {
   "cell_type": "code",
   "execution_count": 3,
   "metadata": {},
   "outputs": [
    {
     "name": "stdout",
     "output_type": "stream",
     "text": [
      "5\n",
      "-10\n",
      "3.14\n"
     ]
    },
    {
     "data": {
      "text/plain": [
       "9"
      ]
     },
     "execution_count": 3,
     "metadata": {},
     "output_type": "execute_result"
    }
   ],
   "source": [
    "### 숫자형\n",
    "print(5)\n",
    "print(-10)\n",
    "print(3.14)\n",
    "\n",
    "# 연산\n",
    "3+5 # 더하기 \n",
    "3-5 # 빼기\n",
    "3*4 # 곱하기\n",
    "4/2 # 나누기\n",
    "3**2 # 제곱"
   ]
  },
  {
   "cell_type": "code",
   "execution_count": 4,
   "metadata": {},
   "outputs": [
    {
     "name": "stdout",
     "output_type": "stream",
     "text": [
      "풍선\n",
      "나비\n",
      "ㅋㅋㅋㅋㅋ\n"
     ]
    }
   ],
   "source": [
    "### 문자형 \n",
    "print('풍선')\n",
    "print(\"나비\")\n",
    "print(\"ㅋ\"*5)"
   ]
  },
  {
   "cell_type": "code",
   "execution_count": 6,
   "metadata": {},
   "outputs": [
    {
     "name": "stdout",
     "output_type": "stream",
     "text": [
      "False\n",
      "True\n",
      "True\n",
      "False\n",
      "True\n",
      "True\n",
      "False\n"
     ]
    }
   ],
   "source": [
    "### 논리형 boolean\n",
    "\n",
    "# 참 / 거짓\n",
    "print(5 > 10)\n",
    "print(5 < 10)\n",
    "print(True)\n",
    "print(not True)\n",
    "print(not False)\n",
    "print(not (5 > 10))\n",
    "print(not (5 < 10))"
   ]
  },
  {
   "cell_type": "code",
   "execution_count": 7,
   "metadata": {},
   "outputs": [
    {
     "name": "stdout",
     "output_type": "stream",
     "text": [
      "이름은 별이\n",
      "별이는 어른인가요? True\n",
      "우리집 강아지의 이름은 별이입니다.\n",
      "별이은 4살이며 산책를 좋아해요.\n",
      "별이은 어른일까요?True\n",
      "별이 는 4 살이며  산책 를 좋아해요.\n"
     ]
    }
   ],
   "source": [
    "### 변수\n",
    "# 애완 동물\n",
    "print(\"이름은 별이\")\n",
    "print(\"별이는 어른인가요? True\")\n",
    "\n",
    "animal = \"강아지\"\n",
    "name = \"별이\"\n",
    "age = 4 # 정수형, print 안에 넣을때는 str()로 바꿔주기.\n",
    "hobby = \"산책\"\n",
    "\n",
    "is_adult = age >= 3\n",
    "\n",
    "print(\"우리집 \" + animal + \"의 이름은 \" + name + \"입니다.\")\n",
    "print(name + \"은 \" + str(age) + \"살이며 \" + hobby + \"를 좋아해요.\")\n",
    "print(name + \"은 어른일까요?\" + str(is_adult))\n",
    "\n",
    "print(name, \"는\", age, \"살이며 \", hobby, \"를 좋아해요.\")\n"
   ]
  },
  {
   "cell_type": "code",
   "execution_count": 8,
   "metadata": {},
   "outputs": [
    {
     "data": {
      "text/plain": [
       "' 이렇게 할 수 있습니다 '"
      ]
     },
     "execution_count": 8,
     "metadata": {},
     "output_type": "execute_result"
    }
   ],
   "source": [
    "### 주석\n",
    "# 이렇게 하거나\n",
    "''' 이렇게 할 수 있습니다 '''"
   ]
  },
  {
   "cell_type": "code",
   "execution_count": 9,
   "metadata": {},
   "outputs": [
    {
     "name": "stdout",
     "output_type": "stream",
     "text": [
      "2\n"
     ]
    },
    {
     "data": {
      "text/plain": [
       "False"
      ]
     },
     "execution_count": 9,
     "metadata": {},
     "output_type": "execute_result"
    }
   ],
   "source": [
    "### 연산자 \n",
    "print(1+1)\n",
    "1+1\n",
    "3-2\n",
    "5*2\n",
    "6/3\n",
    "5**3 # 5*5*5\n",
    "5%3 # 5/3의 나머지\n",
    "5//3 # 5/3의 몫\n",
    "\n",
    "10 > 3\n",
    "4 >= 7\n",
    "5 <= 3\n",
    "\n",
    "3 == 3\n",
    "3 != 2\n",
    "\n",
    "3+4 == 7\n",
    "not(3+4==7)\n",
    "\n",
    "(3>0) and (3<5)\n",
    "(3>0) & (3<5)\n",
    "\n",
    "(3>0) or (3<5)\n",
    "(3>0) | (3<5)\n",
    "\n",
    "5 > 4 > 3\n",
    "5 > 4 > 7"
   ]
  },
  {
   "cell_type": "code",
   "execution_count": 11,
   "metadata": {},
   "outputs": [
    {
     "name": "stdout",
     "output_type": "stream",
     "text": [
      "16\n",
      "18\n",
      "16\n",
      "8.0\n",
      "16.0\n",
      "1.0\n"
     ]
    }
   ],
   "source": [
    "### 수식\n",
    "2+3*4\n",
    "(2+3)*4\n",
    "\n",
    "number = 2+3*4\n",
    "number\n",
    "\n",
    "number = number + 2\n",
    "print(number)\n",
    "number += 2\n",
    "print(number)\n",
    "\n",
    "number -= 2\n",
    "print(number)\n",
    "number /= 2\n",
    "print(number)\n",
    "number *= 2\n",
    "print(number)\n",
    "\n",
    "number %= 5\n",
    "print(number)"
   ]
  },
  {
   "cell_type": "code",
   "execution_count": 12,
   "metadata": {},
   "outputs": [
    {
     "name": "stdout",
     "output_type": "stream",
     "text": [
      "4\n"
     ]
    },
    {
     "data": {
      "text/plain": [
       "4.0"
      ]
     },
     "execution_count": 12,
     "metadata": {},
     "output_type": "execute_result"
    }
   ],
   "source": [
    "### 숫자처리함수\n",
    "\n",
    "abs(-5) # 절대값\n",
    "pow(4,2) # 제곱값 # 4^2 = 4*4 = 16\n",
    "max(5, 12) # 최대값\n",
    "min(5, 12) # 최소값\n",
    "round(3.14)\n",
    "round(3.14, 0)\n",
    "round(3.14, 1)\n",
    "\n",
    "from math import *\n",
    "print(floor(4.99)) # 내림\n",
    "ceil(3.14) # 올림\n",
    "sqrt(16)"
   ]
  },
  {
   "cell_type": "code",
   "execution_count": 13,
   "metadata": {},
   "outputs": [
    {
     "name": "stdout",
     "output_type": "stream",
     "text": [
      "오프라인 스터디 모임 날짜는 매월 11일로 선정되었습니다.\n"
     ]
    }
   ],
   "source": [
    "#### 랜덤함수\n",
    "from random import *\n",
    "random() # 0.0 ~ 1.0 사이의 임의의 값 생성\n",
    "random() * 10\n",
    "\n",
    "int(random()*10) # 정수값만 보기\n",
    "\n",
    "# 1~45 이하의 임의의 값 생성\n",
    "int(random()*45+1) # 정수값만 보기\n",
    "randrange(1,45) # 1부터 45 미만의 값 생성\n",
    "randrange(1,46) # 1부터 46 미만의 정수값 생성\n",
    "randint(1,45) # 1~45 사이의 정수값 생성\n",
    "\n",
    "## 퀴즈 : 랜덤 날짜 출력하기\n",
    "from random import *\n",
    "day =randint(4,28)\n",
    "print(\"오프라인 스터디 모임 날짜는 매월 \" + str(day) + \"일로 선정되었습니다.\") "
   ]
  },
  {
   "cell_type": "code",
   "execution_count": 14,
   "metadata": {},
   "outputs": [
    {
     "name": "stdout",
     "output_type": "stream",
     "text": [
      "나는 소년입니다\n",
      "나는 소년입니다\n",
      " 나는 소년이고, 파이썬은 쉽답니다 \n"
     ]
    }
   ],
   "source": [
    "### 문자열\n",
    "sentence = '나는 소년입니다'\n",
    "print(sentence)\n",
    "\n",
    "sentence = \"나는 소년입니다\"\n",
    "print(sentence)\n",
    "\n",
    "sentence = \"\"\" 나는 소년이고, 파이썬은 쉽답니다 \"\"\"\n",
    "print(sentence)"
   ]
  },
  {
   "cell_type": "code",
   "execution_count": 15,
   "metadata": {},
   "outputs": [
    {
     "name": "stdout",
     "output_type": "stream",
     "text": [
      "910404-1234567\n",
      "성별 : 1\n",
      "연 : 91\n",
      "월 : 04\n",
      "생년월일 : 910404\n",
      "뒷자리 : 1234567\n",
      "뒷자리 : 1234567\n",
      "뒷자리 (뒤에서부터) : 1234567\n",
      "뒷자리 (뒤에서부터) : 1234567\n"
     ]
    }
   ],
   "source": [
    "### 슬라이싱\n",
    "jumin = \"910404-1234567\"\n",
    "print(jumin)\n",
    "# 위 정보에서 필요한 부분만 추출하는 것이 slicing\n",
    "\n",
    "print(\"성별 : \" + jumin[7]) # slicing은 대괄호[] 를 사용.\n",
    "# index의 시작은 0부터. 8번째 값은 [7] 이다.\n",
    "\n",
    "print(\"연 : \" + jumin[0:2]) # 값을 불러올때는 0부터 2번째(즉 3번쨰) 값 직전까지 추출\n",
    "\n",
    "print(\"월 : \" + jumin[2:4]) # 값을 불러올때는 2부터 4번째(즉 5번쨰) 값 직전까지 추출\n",
    "\n",
    "print(\"생년월일 : \" + jumin[:6]) # 처음부터 6직전까지 추출하기\n",
    "print(\"뒷자리 : \" + jumin[7:14])\n",
    "print(\"뒷자리 : \" + jumin[7:])\n",
    "\n",
    "print(\"뒷자리 (뒤에서부터) : \" + jumin[-7:])\n",
    "# 맨 뒤에서 7번째부터 끝까지\n",
    "\n",
    "print(\"뒷자리 (뒤에서부터) : \" + jumin[-7:14])\n",
    "# 맨 뒤에서 7번째부터 14번째 직전 값까지까지"
   ]
  },
  {
   "cell_type": "code",
   "execution_count": null,
   "metadata": {},
   "outputs": [],
   "source": [
    "### 문자열 처리 함수 (lower, upper, isupper, replace, index, find, count) \n",
    "python = \"Python is Amazing\" # 소문자/대문자로 프린트하기위해서는..\n",
    "python.lower()\n",
    "python.upper()\n",
    "python[0].isupper() # 첫째 글자가 대문자인지 확인\n",
    "\n",
    "# 문자열의 길이 반환\n",
    "len(python)\n",
    "\n",
    "# 문자열에서 해당되는 문자를 바꾸기\n",
    "python.replace(\"Python\", \"java\")\n",
    "\n",
    "a = \"Python\"\n",
    "python.replace(a, \"java\")\n",
    "\n",
    "# 문자열에서 문자의 index 찾기\n",
    "index = python.index(\"n\")\n",
    "print(index)\n",
    "\n",
    "# 첫번째로 찾는 위치 다음부터 찾기\n",
    "# 즉, 두번째 n 의 index 찾기\n",
    "index = python.index(\"n\", index + 1)\n",
    "index\n",
    "\n",
    "# find 함수. 원하는 문자가 포함된 위치를 반환\n",
    "python.find(\"n\")\n",
    "python.find(\"Amazing\")\n",
    "\n",
    "# index와 find의 차이\n",
    "python.index(\"java\") # java가 없기때문에 에러 발생\n",
    "python.find(\"java\") # find에서는 java가 없으면 -1을 반환\n",
    "\n",
    "# count 함수. 문자열에서 대상 값이 총 몇개 등장하는지 확인.\n",
    "python.count(\"n\") # python에서 n은 총 2번 등\n"
   ]
  },
  {
   "cell_type": "code",
   "execution_count": 16,
   "metadata": {},
   "outputs": [
    {
     "name": "stdout",
     "output_type": "stream",
     "text": [
      "a b\n",
      "ab\n",
      "나는 20살 입니다.\n",
      "나는 이십살 입니다.\n",
      "apple은 a로 시작해요.\n",
      "파이의 값은 3.14 입니다.\n",
      "나는 파란색과 빨간색를 좋아해요.\n",
      "나는 파란색과 17을 좋아해요.\n",
      "나는 20살입니다\n",
      "나는 파란색을 좋아하고 가지는 그다지 좋아하지 않아요.\n",
      "나는 파란색을 좋아하고 가지는 그다지 좋아하지 않아요.\n",
      "나는 가지을 좋아하고 파란색는 그다지 좋아하지 않아요.\n",
      "나는 20살이고, 파란색을 좋아해요.\n",
      "나는 20살이고, 파란색을 좋아해요.\n",
      "나는 20살이며, 파란색을 좋아해요\n"
     ]
    }
   ],
   "source": [
    "### 문자열 포맷\n",
    "\n",
    "print(\"a\", \"b\")\n",
    "print(\"a\"+\"b\")\n",
    "\n",
    "# 방법 1\n",
    "print(\"나는 %d살 입니다.\" % 20) # %d 는 정수 출력\n",
    "print(\"나는 %s살 입니다.\" % \"이십\") # %s 는 글자 출력\n",
    "print(\"apple은 %c로 시작해요.\" % \"a\") # %c 는 character 출력\n",
    "print(\"파이의 값은 %0.2f 입니다.\" %3.14) # %f는 소수점 출력\n",
    "\n",
    "print(\"나는 %s과 %s를 좋아해요.\" %(\"파란색\",\"빨간색\")) # 2개 동시 출력\n",
    "print(\"나는 %s과 %d을 좋아해요.\" %(\"파란색\",17))\n",
    "\n",
    "# 방법 2\n",
    "print(\"나는 {}살입니다\" .format(20))\n",
    "print(\"나는 {}을 좋아하고 {}는 그다지 좋아하지 않아요.\" .format(\"파란색\", \"가지\"))\n",
    "\n",
    "print(\"나는 {0}을 좋아하고 {1}는 그다지 좋아하지 않아요.\" .format(\"파란색\", \"가지\"))\n",
    "print(\"나는 {1}을 좋아하고 {0}는 그다지 좋아하지 않아요.\" .format(\"파란색\", \"가지\"))\n",
    "\n",
    "# 방법 3\n",
    "print(\"나는 {age}살이고, {color}을 좋아해요.\" .format(age = 20, color=\"파란색\"))\n",
    "\n",
    "age = 20\n",
    "color=\"파란색\"\n",
    "print(\"나는 {0}살이고, {1}을 좋아해요.\" .format(age, color))\n",
    "\n",
    "# 방법 4\n",
    "age = 20\n",
    "color=\"파란색\"\n",
    "print(f\"나는 {age}살이며, {color}을 좋아해요\")"
   ]
  },
  {
   "cell_type": "code",
   "execution_count": 17,
   "metadata": {},
   "outputs": [
    {
     "name": "stdout",
     "output_type": "stream",
     "text": [
      "백문이 불여일견, \n",
      "백견이 불여일타\n",
      "저는 '나도 코딩'입니다\n",
      "저는 \"나도 코딩\"입니다\n",
      "저는 \"나도 코딩\"입니다\n",
      "역슬러시는 \\입니다.\n",
      "C:\\Users\\sorel\n",
      "PineApple\n",
      "RedApple\n",
      "Red Apple\n",
      "Red\tApple\n",
      "Red\t\tApple\n"
     ]
    }
   ],
   "source": [
    "### 탈출 문자\n",
    "print(\"백문이 불여일견, \\n백견이 불여일타\")\n",
    "# \\n 은 문장내에서 줄바꿈을 의미, / 가 아니라 \\임\n",
    "\n",
    "print(\"저는 '나도 코딩'입니다\")\n",
    "print('저는 \"나도 코딩\"입니다')\n",
    "print(\"저는 \\\"나도 코딩\\\"입니다\")\n",
    "# \\\", \\'는 문장내에서 \",'을 넣을때 사용.\n",
    "\n",
    "print(\"역슬러시는 \\\\입니다.\")\n",
    "print(\"C:\\\\Users\\\\sorel\")\n",
    "\n",
    "#  \\r: 커서를 맨 앞으로 이동\n",
    "print(\"Red Apple\\rPine\")\n",
    "\n",
    "# \\b : 백스페이스, 한글자 삭제\n",
    "print(\"Redd\\bApple\")\n",
    "\n",
    "# \\t : 탭\n",
    "print(\"Red Apple\")    \n",
    "print(\"Red\\tApple\")    \n",
    "print(\"Red\\t\\tApple\")   "
   ]
  },
  {
   "cell_type": "markdown",
   "metadata": {},
   "source": [
    "<br>\n",
    "\n",
    "### 3) Basic 2\n",
    "\n",
    "<br>\n",
    "\n",
    "* https://www.youtube.com/watch?v=XjfUcQk8PiE&list=PL-QFFQeuiKKsvRLFeOgu594EmqdM-9ZBI\n",
    "\n",
    "<br>\n"
   ]
  },
  {
   "cell_type": "code",
   "execution_count": 20,
   "metadata": {},
   "outputs": [],
   "source": [
    "# 경로 설정\n",
    "import os as os\n",
    "os.getcwd()\n",
    "os.chdir(r\"D:\\Dropbox\\3.Python\\01.Python_Basic\")\n",
    "\n",
    "# 변수 리셋\n",
    "# %reset\n",
    "\n",
    "# 메모리에 저장된 변수 및 함수 확인\n",
    "dir()\n",
    "\n",
    "# 메모리에 저장된 변수 제거\n",
    "x = 1\n",
    "del x\n",
    "\n",
    "### 1. 변수\n",
    "# 변수명은 반드시 유니코드 문자 or _로 시작해야함.\n",
    "# 변수명에는 공백이 없어야 함.\n",
    "# 특수문자 활용 불가, 파이썬의 기본적인 예약어(e.g., print)가 아니어야 함.\n",
    "# python의 변수는 처음 사용될 때 생성이됨.\n",
    "\n",
    "\n",
    "a = 3 "
   ]
  },
  {
   "cell_type": "code",
   "execution_count": null,
   "metadata": {},
   "outputs": [],
   "source": [
    "### 2. 문자열\n",
    "# 문자열은 문자의 모임이다. [리스트] array로 만들어진다.\n",
    "str1 = \"문자열은 이렇거나 \"\n",
    "str2 = '문자열은 이렇습니다'\n",
    "print(str1 + str2)\n",
    "\n",
    "str3 = '문자열 곱하기'\n",
    "print(str3*5)\n",
    "str4 = \"\"\"문자열 곱하기\\n문자열 곱하기\\n문자열 곱하기\\n문자열 곱하기\\n문자열 곱하기\"\"\"\n",
    "print(str4)\n",
    "print(\"\\n\")"
   ]
  },
  {
   "cell_type": "code",
   "execution_count": 22,
   "metadata": {},
   "outputs": [
    {
     "name": "stdout",
     "output_type": "stream",
     "text": [
      "\n",
      "\n",
      "\n",
      " 안녕하세요. 메모장입니다. \n",
      "\n",
      "\n",
      "\n"
     ]
    },
    {
     "data": {
      "text/plain": [
       "'안녕하세요. 메모장입니다.'"
      ]
     },
     "execution_count": 22,
     "metadata": {},
     "output_type": "execute_result"
    }
   ],
   "source": [
    "### 3. 문자열 처리 함수\n",
    "\n",
    "# \"문자열\".upper()\n",
    "# \"문자열\".lower()\n",
    "# \"문자열\".isupper()\n",
    "# \"문자열\".islower()\n",
    "# \"문자열\".index()\n",
    "# \"문자열\".find()\n",
    "# \"문자열\".count()\n",
    "# \"문자열\".replace()\n",
    "# \"문자열\".endswith()\n",
    "# \"문자열\".startswith()\n",
    "# \"문자열\".strip()\n",
    "# str()\n",
    "# len()\n",
    "\n",
    "str2.endswith(\"다\") # 문자열이 어떤 문자로 끝나는지\n",
    "str2.startswith(\"문\") # 문자열이 어떤 문자로 시작하는지\n",
    "\n",
    "# strip: 앞 뒤에 있는 개행 문자, 띄어쓰기, 탭을 지워준다.\n",
    "str5 = \"\\n\\n\\n 안녕하세요. 메모장입니다. \\n\\n\\n\"\n",
    "print(str5)\n",
    "str5.strip()"
   ]
  },
  {
   "cell_type": "code",
   "execution_count": 30,
   "metadata": {},
   "outputs": [
    {
     "name": "stdout",
     "output_type": "stream",
     "text": [
      "1\n",
      "10\n",
      "1\n",
      "2\n"
     ]
    },
    {
     "data": {
      "text/plain": [
       "7"
      ]
     },
     "execution_count": 30,
     "metadata": {},
     "output_type": "execute_result"
    }
   ],
   "source": [
    "# str, int, float: 변환 함수\n",
    "A = 1\n",
    "B = \"10\"\n",
    "C = 1.5\n",
    "\n",
    "print(str(A))\n",
    "print(int(B))\n",
    "print(int(C))\n",
    "# print(float(C))\n",
    "\n",
    "# len: 문자열 변수의 길이 반환\n",
    "print(len(\"10\"))\n",
    "\n",
    "# list 형\n",
    "my_list = [1,2,3,4,5,6,7]\n",
    "my_list\n",
    "len(my_list)\n"
   ]
  },
  {
   "cell_type": "code",
   "execution_count": 32,
   "metadata": {},
   "outputs": [
    {
     "name": "stdout",
     "output_type": "stream",
     "text": [
      "2017\n",
      "2018\n",
      "2019\n",
      "2019\n",
      "['2017\\n', '2018\\n', '2019']\n"
     ]
    }
   ],
   "source": [
    "### 4. 파일입출력\n",
    "# open, close\n",
    "\n",
    "# open으로 텍스트파일의 스트림을 읽어오기, \n",
    "# 이후 파일에 대한 편집이 끝나면 스트림을 close로 닫기\n",
    "# fileStream = open(\"D:\\\\Study\\\\05.Python_Basic\\\\mat02.txt\") # 파일 스트림을 열고\n",
    "fileStream = open(\"mat02.txt\") # 파일 스트림을 열고\n",
    "contents = fileStream.read()\n",
    "print(contents)\n",
    "fileStream.close()  # 파일 스트림을 닫는다.\n",
    "\n",
    "type(contents) # 불러온 파일의 유형 살펴보기\n",
    "\n",
    "# 텍스트파일에서 한 줄씩 읽어오기 1\n",
    "fileStream = open(\"mat02.txt\") # 파일 스트림을 열고\n",
    "contents = fileStream.readline()\n",
    "contents = fileStream.readline()\n",
    "contents = fileStream.readline()\n",
    "print(contents)\n",
    "type(contents)\n",
    "fileStream.close()  # 파일 스트림을 닫는다.\n",
    "\n",
    "# 텍스트파일에서 한 줄씩 읽어오기 2\n",
    "fileStream = open(\"mat02.txt\") # 파일 스트림을 열고\n",
    "contents = fileStream.readlines() # 텍스트의 데이터를 리스트로 불러온다.\n",
    "print(contents)\n",
    "type(contents)\n",
    "contents[0]\n",
    "contents[1]\n",
    "contents[2]\n",
    "\n",
    "# 개행 문자가 함게 포함되어 오니 지우려면. strip\n",
    "contents[0].strip()\n",
    "contents[1].strip()\n",
    "contents[2].strip()\n",
    "\n",
    "fileStream.close()  # 파일 스트림을 닫는다.\n",
    "\n",
    "### 참고 - 함수의 기능 확인: python docs 또는 wikidocs를 통해\n",
    "# 파이썬에 대한 전반을 정리해둔 docs\n",
    "# https://docs.python.org/3/\n",
    "# -> quickSearch에 궁금한 함수 검색\n",
    "\n",
    "# 점프 투 파이썬에서 찾기\n",
    "# https://wikidocs.net/book/1\n",
    "# -> 검색어 입력에서 함수 입력"
   ]
  },
  {
   "cell_type": "code",
   "execution_count": 35,
   "metadata": {},
   "outputs": [
    {
     "name": "stdout",
     "output_type": "stream",
     "text": [
      "1\n",
      "2\n",
      "3\n",
      "4\n",
      "5\n",
      "6\n",
      "7\n",
      "8\n",
      "9\n",
      "10\n",
      "1\n",
      "2\n",
      "3\n",
      "4\n",
      "5\n",
      "6\n",
      "7\n",
      "8\n",
      "9\n",
      "10\n",
      "이\n",
      "번\n",
      " \n",
      "시\n",
      "간\n",
      "은\n",
      " \n",
      "f\n",
      "o\n",
      "r\n",
      " \n",
      "반\n",
      "복\n",
      "문\n",
      " \n",
      "입\n",
      "니\n",
      "다\n",
      ".\n",
      "1\n",
      "3\n",
      "5\n",
      "7\n",
      "9\n",
      "11\n",
      "1\n",
      "2\n",
      "3\n",
      "4\n",
      "5\n",
      "6\n",
      "7\n",
      "8\n",
      "9\n",
      "10\n",
      "1\n",
      "2\n",
      "3\n",
      "4\n",
      "5\n",
      "6\n",
      "7\n",
      "8\n",
      "9\n",
      "10\n",
      "11\n",
      "10\n",
      "10\n"
     ]
    }
   ],
   "source": [
    "### 5. 반복문 (for, while)\n",
    "# R의 반복\n",
    "# for ( i in 1:10 ) {\n",
    "# print(i)\n",
    "# }\n",
    "\n",
    "# Python의 반복문\n",
    "# for <target> in <object> :\n",
    "#     <statement>\n",
    "# <object>는 반복가능한 sequence 형 객체여야함, 리스트, 튜플, 문자열 등\n",
    "# <statement>는 반복의 대상이된 <target>에 대한 선언문\n",
    "# 반복의 횟수는 object의 크기, item의 개수\n",
    "\n",
    "for i in range(1,11):\n",
    "    print(i) # 들여쓰기, tab 필수\n",
    "    \n",
    "# for 반복문\n",
    "A = [1,2,3,4,5,6,7,8,9,10]\n",
    "B = \"이번 시간은 for 반복문 입니다.\"\n",
    "for i in A : \n",
    "    print(i)\n",
    "\n",
    "for i in B : \n",
    "    print(i)\n",
    "    \n",
    "# range 함수\n",
    "# matlab에선 linspace(1,11,2)와 유사\n",
    "# R에선 seq(1,11, by = 2)\n",
    "# range(a, b, c)\n",
    "# a부터 b-1까지 c만큼 건너띄면서 숫자의 배열을 반환\n",
    "\n",
    "A = range(1,12,2)\n",
    "for i in A : \n",
    "    print(i)\n",
    "    \n",
    "# while 반복문\n",
    "# R에선\n",
    "# i = 1\n",
    "# while( TRUE ){\n",
    "#         print(i)\n",
    "#         i=i+1\n",
    "#         if( i == 11){\n",
    "#                 break}\n",
    "#         }\n",
    "\n",
    "# Python에선\n",
    "i=1\n",
    "while(True):\n",
    "    print(i)\n",
    "    i=i+1 # i += 1\n",
    "    if (i >= 11) :\n",
    "        break\n",
    "\n",
    "i = 1    \n",
    "while(i <= 11):\n",
    "    print(i)\n",
    "    i=i+1 # i += 1\n",
    "    \n",
    "# while(condition):\n",
    "#     <statement>\n",
    "\n",
    "\n",
    "# 예제 1\n",
    "import os\n",
    "os.getcwd()\n",
    "# ls\n",
    "\n",
    "prac = open(\"mat02.txt\")\n",
    "pr1 = prac.readline()\n",
    "prac.close()\n",
    "\n",
    "pr1 = pr1.strip()\n",
    "type(pr1)\n",
    "pr1 = int(pr1)\n",
    "type(pr1)\n",
    "pr1+1\n",
    "\n",
    "# 예제 2\n",
    "import os\n",
    "os.getcwd()\n",
    "# ls\n",
    "\n",
    "prac = open(\"mat03.txt\")\n",
    "pr1 = prac.readlines()\n",
    "prac.close()\n",
    "pr1\n",
    "\n",
    "# 방법 1\n",
    "i = 0\n",
    "r1 = 0\n",
    "for i in range(0,4):\n",
    "    r1 = r1 + int(pr1[i].strip())\n",
    "        \n",
    "print(r1)\n",
    "\n",
    "# 방법 2\n",
    "prac = open(\"mat03.txt\")\n",
    "pr2 = prac.readlines()\n",
    "prac.close()\n",
    "pr2\n",
    "r1 = 0\n",
    "for i in pr1 :\n",
    "    r1 = r1 + int(i.strip())\n",
    "print(r1)"
   ]
  },
  {
   "cell_type": "code",
   "execution_count": 36,
   "metadata": {},
   "outputs": [
    {
     "name": "stdout",
     "output_type": "stream",
     "text": [
      "one\n"
     ]
    }
   ],
   "source": [
    "### 6. 조건문\n",
    "# R에선\n",
    "# if ( value == 1 ){\n",
    "#      print(\"one\")\n",
    "# } else if ( value == 2 ){\n",
    "#      print(\"two\")\n",
    "# } else {\n",
    "#      print(\"three\")\n",
    "# }\n",
    "\n",
    "# Python\n",
    "v = 1\n",
    "if (v == 1):\n",
    "    print(\"one\")\n",
    "elif (v == 2):\n",
    "    print(\"two\")\n",
    "else : \n",
    "    print(\"three\")\n",
    "    \n",
    "# else는 elif가 하나 있는 경우 꼭 들어가야함.\n",
    "# elif가 여러 개 있는 경우 else를 생략할 수 있음."
   ]
  },
  {
   "cell_type": "code",
   "execution_count": 38,
   "metadata": {},
   "outputs": [
    {
     "name": "stdout",
     "output_type": "stream",
     "text": [
      "해당원소가 없음\n"
     ]
    },
    {
     "data": {
      "text/plain": [
       "[10, 7, 5, 4]"
      ]
     },
     "execution_count": 38,
     "metadata": {},
     "output_type": "execute_result"
    }
   ],
   "source": [
    "### 7. List\n",
    "# R에선.. vector, matrix, array, data.frame, list(vector, arrays, data frames, lists)\n",
    "# Python에선.. Number, String, List, Tuple, Dictionary + set()\n",
    "# List는 배열, []로 묶임. can be updated. index로 접근 가능\n",
    "# Tuple도 리스트와 유사한 배열, ()로 묶임. can not be updated but faster.\n",
    "# Dictionary는 key와 value로 구성. {}로 선언\n",
    "# set은 중복된 자료가 없는 자료형. 모든 값은 유니크한 변수로 구성.\n",
    "\n",
    "myDict = {\n",
    "    \"id\" : \"th\",\n",
    "    \"no\" : 4\n",
    "    }\n",
    "\n",
    "myDict\n",
    "myDict[\"id\"]\n",
    "\n",
    "myList = [1, 2, 2, 10, 10, 3, 3, 3, 4, 5, 5, 7, 7, 8]\n",
    "set(myList) # myList에서 unique한 값으로만 추출\n",
    "\n",
    "# 가장 마지막의 원소가 궁금하면\n",
    "myList[-1]\n",
    "\n",
    "myList.append(9)\n",
    "myList[-1] = 10\n",
    "myList[-1]\n",
    "\n",
    "myList.remove(10)\n",
    "myList\n",
    "\n",
    "# List의 값 정렬\n",
    "myList.sort()\n",
    "myList\n",
    "myList.reverse()\n",
    "myList\n",
    "\n",
    "i = 11\n",
    "if (i in myList):\n",
    "    print(myList.index(i))\n",
    "else : \n",
    "    print(\"해당원소가 없음\")\n",
    "\n",
    "myList.insert(10,15) # a위치에 b를 삽입\n",
    "myList.count(7)\n",
    "myList[1:8:2]"
   ]
  },
  {
   "cell_type": "code",
   "execution_count": 39,
   "metadata": {},
   "outputs": [
    {
     "data": {
      "text/plain": [
       "{'피카츄': 120,\n",
       " '라이츄': 133,\n",
       " '파이리': 137,\n",
       " '꼬부기': 111,\n",
       " '버터플': 120,\n",
       " '야도란': 139,\n",
       " '피존투': 119,\n",
       " '또가스': 121}"
      ]
     },
     "execution_count": 39,
     "metadata": {},
     "output_type": "execute_result"
    }
   ],
   "source": [
    "### 실습 예제\n",
    "import os as os\n",
    "os.getcwd()\n",
    "\n",
    "# open file\n",
    "fStream1 = open(\"poketmon_data.txt\", \"rt\", encoding='UTF8')\n",
    "pok_dat = fStream1.readlines()\n",
    "fStream1.close()\n",
    "\n",
    "fStream2 = open(\"poketmon_index.txt\", \"rt\", encoding='UTF8')\n",
    "pok_idx = fStream2.readlines()\n",
    "fStream2.close()\n",
    "\n",
    "# strip\n",
    "dat_list = []\n",
    "for i in pok_dat:\n",
    "    dat_list.append(i.strip())\n",
    "dat_list\n",
    "\n",
    "idx_list = []\n",
    "count_list = []\n",
    "for j in pok_idx:\n",
    "    idx_list.append(j.strip())\n",
    "idx_list\n",
    "\n",
    "\n",
    "for x in idx_list:\n",
    "    count_list.append(dat_list.count(x))\n",
    "count_list\n",
    "\n",
    "myDict = {\n",
    "    \"피카츄\" : count_list[0],\n",
    "    \"라이츄\" : count_list[1],\n",
    "    \"파이리\" : count_list[2],\n",
    "    \"꼬부기\" : count_list[3],\n",
    "    \"버터플\" : count_list[4],\n",
    "    \"야도란\" : count_list[5],\n",
    "    \"피존투\" : count_list[6],\n",
    "    \"또가스\" : count_list[7],\n",
    "    }\n",
    "\n",
    "myDict "
   ]
  },
  {
   "cell_type": "code",
   "execution_count": 40,
   "metadata": {},
   "outputs": [
    {
     "name": "stdout",
     "output_type": "stream",
     "text": [
      "태훈님, 안녕하세요. 반갑습니다.\n",
      "태훈님, 안녕하세요.\n",
      "1\n",
      "2\n",
      "3\n",
      "4\n",
      "5\n"
     ]
    },
    {
     "data": {
      "image/png": "[encoded data removed]",
      "text/plain": [
       "<Figure size 1008x576 with 2 Axes>"
      ]
     },
     "metadata": {},
     "output_type": "display_data"
    }
   ],
   "source": [
    "### 8. 함수\n",
    "\n",
    "# def 함수 이름 ( 매개 변수(input) ):\n",
    "#     함수 내용\n",
    "#     return 리턴 값\n",
    "\n",
    "def sayHello ( userName ) :\n",
    "    my_str = userName+\"님, 안녕하세요.\"\n",
    "    print(my_str + \" 반갑습니다.\")\n",
    "    return my_str\n",
    "\n",
    "A = sayHello(\"태훈\")\n",
    "print(A)\n",
    "\n",
    "# return으로 함수 종료하기\n",
    "del i\n",
    "\n",
    "def myFunc ( num ) : \n",
    "    i = 0\n",
    "    while (True):\n",
    "        i += 1\n",
    "        print(i)\n",
    "        if(i==num):\n",
    "            return\n",
    "            # return \"끝\"\n",
    "\n",
    "    \n",
    "myFunc(5)    \n",
    "\n",
    "# 포켓몬 카운터 쪼개기\n",
    "import os as os\n",
    "os.getcwd()\n",
    "\n",
    "# open file\n",
    "fStream1 = open(\"poketmon_data.txt\", \"rt\", encoding='UTF8')\n",
    "pok_dat = fStream1.readlines()\n",
    "fStream1.close()\n",
    "\n",
    "fStream2 = open(\"poketmon_index.txt\", \"rt\", encoding='UTF8')\n",
    "pok_idx = fStream2.readlines()\n",
    "fStream2.close()\n",
    "\n",
    "# strip\n",
    "dat_list = []\n",
    "for i in pok_dat:\n",
    "    dat_list.append(i.strip())\n",
    "dat_list\n",
    "\n",
    "idx_list = []\n",
    "count_list = []\n",
    "for j in pok_idx:\n",
    "    idx_list.append(j.strip())\n",
    "idx_list\n",
    "\n",
    "\n",
    "for x in idx_list:\n",
    "    count_list.append(dat_list.count(x))\n",
    "count_list\n",
    "\n",
    "# 텍스트파일경로를 인자로 받아서 해당 파일을 읽고\n",
    "# 한줄씩 원소를 가지는 리스트를 리턴해주는 함수\n",
    "def ReadTxt_rtList ( txtPath ) :\n",
    "    fStream = open(txtPath, encoding='UTF8')\n",
    "    rltList = fStream.readlines()\n",
    "    fStream.close()\n",
    "    return rltList\n",
    "\n",
    "def auto_strip ( dat ) :\n",
    "    dat_list = []\n",
    "    for i in dat:\n",
    "        dat_list.append(i.strip())\n",
    "    return dat_list\n",
    "\n",
    "pok_dat = ReadTxt_rtList(\"poketmon_data.txt\")\n",
    "pok_idx = ReadTxt_rtList(\"poketmon_index.txt\")\n",
    "\n",
    "dat_list = auto_strip(pok_dat)\n",
    "idx_list = auto_strip(pok_idx)\n",
    "dat_list\n",
    "idx_list\n",
    "\n",
    "count_list = list()\n",
    "for x in idx_list:\n",
    "    count_list.append(dat_list.count(x))\n",
    "count_list\n",
    "\n",
    "### 9. 모듈 \n",
    "# 라이브러리, toolbox, package와 동일\n",
    "# 파이썬에서는 install은 cmd 창에서, import는 편집기 안에서 이루어진다.\n",
    "# 윈도우 + r 버튼을 누르고, cmd 창을 연다. 이후, pip install 모듈명을 친다.\n",
    "\n",
    "# Pandas : 데이터 조작 - pd\n",
    "# Numpy : 데이터 계산 - np\n",
    "# Matplotlib : 결과를 시각화 - plt\n",
    "\n",
    "# Matplotlib : 데이터 시각화 라이브러리\n",
    "# 해당 모듈에 대한 함수들은 각 모듈의 문서에서 확인할 수 있다.\n",
    "# https://matplotlib.org/\n",
    "\n",
    "# matplotlib 폰트설정\n",
    "# 방법 1\n",
    "# plt.rc('font', family='NanumGothicOTF') # For MacOS\n",
    "# plt.rc('font', family='NanumGothic') # For Windows\n",
    "# print(plt.rcParams['font.family'])\n",
    "\n",
    "# 방법 2\n",
    "# import matplotlib.font_manager as fm\n",
    "# fm._rebuild() # 시스템에 폰트파일 복사 후 최초 1회 수행\n",
    "# # 폰트 설정\n",
    "# fm.get_fontconfig_fonts()\n",
    "# font_location = '/usr/share/fonts/truetype/nanum/NanumGothicOTF.ttf'\n",
    "# font_name = fm.FontProperties(fname=font_location).get_name()\n",
    "# print('font_name:', font_name)\n",
    "# matplotlib.rc('font', family=font_name)\n",
    "\n",
    "# 방법 3\n",
    "def setKFont() :\n",
    "    from matplotlib import font_manager, rc\n",
    "    font_name = font_manager.FontProperties(fname=r\"C:\\Windows\\Fonts\\NanumGothic.TTF\").get_name()\n",
    "    rc(\"font\", family = font_name)\n",
    "    plt.rcParams[\"font.size\"] = 15\n",
    "    plt.rcParams[\"figure.figsize\"] = (14,8)\n",
    "\n",
    "\n",
    "import matplotlib.pyplot as plt\n",
    "\n",
    "# 각각의 차트를 따로 보기 위해서는...\n",
    "setKFont()\n",
    "plt.subplot(2, 1, 1)\n",
    "plt.bar(idx_list, count_list, width=0.5, color = \"grey\")\n",
    "plt.title(\"포켓몬 카운터 ver 2.0\")\n",
    "plt.xlabel(\"Name\")\n",
    "plt.ylabel(\"Frequency\")\n",
    "\n",
    "plt.subplot(2, 1, 2)\n",
    "plt.plot(idx_list, count_list, color=\"black\")\n",
    "plt.xlabel(\"Name\")\n",
    "plt.ylabel(\"Frequency\")\n",
    "plt.show()\n"
   ]
  },
  {
   "cell_type": "code",
   "execution_count": null,
   "metadata": {},
   "outputs": [],
   "source": []
  },
  {
   "cell_type": "code",
   "execution_count": null,
   "metadata": {},
   "outputs": [],
   "source": []
  }
 ],
 "metadata": {
  "hide_input": false,
  "kernelspec": {
   "display_name": "Python 3 (ipykernel)",
   "language": "python",
   "name": "python3"
  },
  "language_info": {
   "codemirror_mode": {
    "name": "ipython",
    "version": 3
   },
   "file_extension": ".py",
   "mimetype": "text/x-python",
   "name": "python",
   "nbconvert_exporter": "python",
   "pygments_lexer": "ipython3",
   "version": "3.8.8"
  },
  "toc": {
   "base_numbering": 1,
   "nav_menu": {},
   "number_sections": true,
   "sideBar": true,
   "skip_h1_title": false,
   "title_cell": "Table of Contents",
   "title_sidebar": "Contents",
   "toc_cell": false,
   "toc_position": {},
   "toc_section_display": true,
   "toc_window_display": false
  },
  "varInspector": {
   "cols": {
    "lenName": 16,
    "lenType": 16,
    "lenVar": 40
   },
   "kernels_config": {
    "python": {
     "delete_cmd_postfix": "",
     "delete_cmd_prefix": "del ",
     "library": "var_list.py",
     "varRefreshCmd": "print(var_dic_list())"
    },
    "r": {
     "delete_cmd_postfix": ") ",
     "delete_cmd_prefix": "rm(",
     "library": "var_list.r",
     "varRefreshCmd": "cat(var_dic_list()) "
    }
   },
   "types_to_exclude": [
    "module",
    "function",
    "builtin_function_or_method",
    "instance",
    "_Feature"
   ],
   "window_display": false
  }
 },
 "nbformat": 4,
 "nbformat_minor": 4
}
